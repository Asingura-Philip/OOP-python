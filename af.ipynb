{
 "cells": [
  {
   "cell_type": "code",
   "execution_count": 1,
   "metadata": {},
   "outputs": [
    {
     "name": "stdout",
     "output_type": "stream",
     "text": [
      "[2, 2, 3, 4, 5, -1, 0, 1]\n",
      "[2, 2, 4, 5, -1, 0, 1]\n"
     ]
    }
   ],
   "source": [
    "list = [2,2,3,4,5]\n",
    "\n",
    "new = [-1,0,1]\n",
    "\n",
    "list.extend(new)\n",
    "\n",
    "print(list)\n",
    "\n",
    "list.pop(2)\n",
    "\n",
    "print(list)\n",
    "\n",
    "list.remove(4)"
   ]
  },
  {
   "cell_type": "markdown",
   "metadata": {},
   "source": [
    "# RECURSION"
   ]
  },
  {
   "cell_type": "code",
   "execution_count": 2,
   "metadata": {},
   "outputs": [
    {
     "data": {
      "text/plain": [
       "120"
      ]
     },
     "execution_count": 2,
     "metadata": {},
     "output_type": "execute_result"
    }
   ],
   "source": [
    "def factorial(x):\n",
    "    if x == 1: #\n",
    "        return 1\n",
    "    else:\n",
    "        return x * factorial(x-1)\n",
    "    \n",
    "factorial(5)\n"
   ]
  },
  {
   "cell_type": "markdown",
   "metadata": {},
   "source": [
    "# CLOSURES  "
   ]
  },
  {
   "cell_type": "code",
   "execution_count": 3,
   "metadata": {},
   "outputs": [
    {
     "data": {
      "text/plain": [
       "[1]"
      ]
     },
     "execution_count": 3,
     "metadata": {},
     "output_type": "execute_result"
    }
   ],
   "source": [
    "def num_list():\n",
    "    numbers = []\n",
    "\n",
    "    def add_to_num_list(x):\n",
    "        numbers.append(x)\n",
    "        return numbers\n",
    "    return add_to_num_list\n",
    "\n",
    "enter_num = num_list()\n",
    "\n",
    "enter_num(1)"
   ]
  },
  {
   "cell_type": "markdown",
   "metadata": {},
   "source": [
    "# DECORATORS"
   ]
  },
  {
   "cell_type": "code",
   "execution_count": 4,
   "metadata": {},
   "outputs": [
    {
     "name": "stdout",
     "output_type": "stream",
     "text": [
      "Before calling: greet\n",
      "Hello, jane\n",
      "After calling: greet\n"
     ]
    }
   ],
   "source": [
    "def my_decorator(func):\n",
    "  def wrapper(*args, **kwargs):\n",
    "    print(\"Before calling:\", func.__name__)\n",
    "    func(*args, **kwargs)\n",
    "    print(\"After calling:\", func.__name__)\n",
    "  return wrapper\n",
    "\n",
    "@my_decorator\n",
    "def greet(name): \n",
    "\n",
    "  print(\"Hello,\", name)\n",
    "\n",
    "greet(\"jane\")"
   ]
  },
  {
   "cell_type": "code",
   "execution_count": 5,
   "metadata": {},
   "outputs": [
    {
     "name": "stdout",
     "output_type": "stream",
     "text": [
      "You ordered chocolate ice cream\n",
      "Adding sprinkles\n"
     ]
    }
   ],
   "source": [
    "\n",
    "def sprinkles(func):\n",
    "    def wrapper(*args, **kwargs):\n",
    "        func(*args,**kwargs)\n",
    "        print(\"Adding sprinkles\")\n",
    "    return wrapper\n",
    "\n",
    "@sprinkles\n",
    "def ice_cream(flavour):\n",
    "    print(f\"You ordered {flavour} ice cream\")\n",
    "\n",
    "\n",
    "ice_cream(\"chocolate\")"
   ]
  }
 ],
 "metadata": {
  "kernelspec": {
   "display_name": "Python 3",
   "language": "python",
   "name": "python3"
  },
  "language_info": {
   "codemirror_mode": {
    "name": "ipython",
    "version": 3
   },
   "file_extension": ".py",
   "mimetype": "text/x-python",
   "name": "python",
   "nbconvert_exporter": "python",
   "pygments_lexer": "ipython3",
   "version": "3.10.0"
  }
 },
 "nbformat": 4,
 "nbformat_minor": 2
}
